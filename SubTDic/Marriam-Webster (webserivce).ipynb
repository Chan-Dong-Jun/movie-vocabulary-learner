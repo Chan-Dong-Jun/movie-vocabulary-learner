{
 "cells": [
  {
   "cell_type": "markdown",
   "metadata": {},
   "source": [
    "# Subtitle Dictionary Project"
   ]
  },
  {
   "cell_type": "markdown",
   "metadata": {},
   "source": [
    "## Preparation"
   ]
  },
  {
   "cell_type": "markdown",
   "metadata": {},
   "source": [
    "#### Imports"
   ]
  },
  {
   "cell_type": "code",
   "execution_count": 1,
   "metadata": {
    "colab": {
     "background_save": true
    },
    "executionInfo": {
     "elapsed": 626,
     "status": "ok",
     "timestamp": 1620615109013,
     "user": {
      "displayName": "Charlie Blog",
      "photoUrl": "",
      "userId": "05996586073871680296"
     },
     "user_tz": -480
    },
    "id": "hJH1PAMnYcJL"
   },
   "outputs": [],
   "source": [
    "import numpy as np\n",
    "import pandas as pd\n",
    "import json\n",
    "import sys\n",
    "import srt\n",
    "import string\n",
    "import re"
   ]
  },
  {
   "cell_type": "markdown",
   "metadata": {},
   "source": [
    "#### Configuring Environment"
   ]
  },
  {
   "cell_type": "code",
   "execution_count": 2,
   "metadata": {
    "colab": {
     "background_save": true
    },
    "executionInfo": {
     "elapsed": 626,
     "status": "ok",
     "timestamp": 1620615109013,
     "user": {
      "displayName": "Charlie Blog",
      "photoUrl": "",
      "userId": "05996586073871680296"
     },
     "user_tz": -480
    },
    "id": "hJH1PAMnYcJL"
   },
   "outputs": [],
   "source": [
    "# Numpy / Pandas display options\n",
    "np.set_printoptions(threshold=sys.maxsize)\n",
    "pd.set_option('display.max_columns', 10)\n",
    "pd.set_option('display.max_rows', 100)\n",
    "\n",
    "# Enable multiple cell outputs\n",
    "from IPython.core.interactiveshell import InteractiveShell\n",
    "InteractiveShell.ast_node_interactivity='all'"
   ]
  },
  {
   "cell_type": "markdown",
   "metadata": {},
   "source": [
    "#### Setting Vars"
   ]
  },
  {
   "cell_type": "code",
   "execution_count": 3,
   "metadata": {},
   "outputs": [],
   "source": [
    "# movie_title = \"./data/\"+\"Spellbound 1945\"\n",
    "movie_title = \"./data/\"+\"The.Lord.of.The.Rings.The.Two.Towers.2002\"\n",
    "movie_srt               = movie_title + \".srt\"\n",
    "movie_title_user_action = movie_title + '_user_action.csv'\n",
    "# movie_title_user_action = movie_title + '_with_.csv'\n",
    "\n",
    "user_name = \"charlie\"\n",
    "user_ignore_file = \"./data/w2ignore-\" + user_name + \".csv\"\n",
    "\n",
    "w2ignore_csv = \"./data/w2ignore.csv\""
   ]
  },
  {
   "cell_type": "markdown",
   "metadata": {},
   "source": [
    "#### Words to Ignore"
   ]
  },
  {
   "cell_type": "code",
   "execution_count": 4,
   "metadata": {},
   "outputs": [],
   "source": [
    "# df_w2i = pd.read_csv(w2ignore_csv).rename(columns = {\"Words to Ignore\": \"w2ignore\"})"
   ]
  },
  {
   "cell_type": "code",
   "execution_count": 5,
   "metadata": {},
   "outputs": [],
   "source": [
    "# w2ignore = set(df_w2i.w2ignore)"
   ]
  },
  {
   "cell_type": "markdown",
   "metadata": {},
   "source": [
    "## Parsing Subtitle"
   ]
  },
  {
   "cell_type": "code",
   "execution_count": 6,
   "metadata": {
    "scrolled": false
   },
   "outputs": [],
   "source": [
    "def read_st(st_file) -> str:\n",
    "    \n",
    "    with open(st_file, 'r') as f:\n",
    "        st = f.read()\n",
    "    \n",
    "    st = st.replace('\\n', ' \\n')\n",
    "    return st"
   ]
  },
  {
   "cell_type": "code",
   "execution_count": 7,
   "metadata": {},
   "outputs": [],
   "source": [
    "def parse_st(st : str) -> str:\n",
    "    \n",
    "    subtitle_generator = srt.parse(st)    \n",
    "    st = ''\n",
    "    for l in subtitle_generator:\n",
    "        st += l.content\n",
    "        \n",
    "    return st"
   ]
  },
  {
   "cell_type": "code",
   "execution_count": 8,
   "metadata": {
    "scrolled": true
   },
   "outputs": [],
   "source": [
    "def clean_st(st : str) -> str:\n",
    "\n",
    "    st = st.replace('\\n', ' ')\n",
    "    st = st.replace('</i><i>', ' ')\n",
    "    st = st.replace('</i>', ' ')\n",
    "    st = st.replace('<i>', ' ')\n",
    "    st = st.replace(string.punctuation, ' ')   # working ?\n",
    "    st = st.replace('.', ' ')\n",
    "    st = st.replace('\\\\\\'s', ' ')\n",
    "    st = st.replace('s\\'', ' ')\n",
    "\n",
    "    replace = ' '\n",
    "    pattern = '[^a-zA-Z0-9 - ]'\n",
    "    st = re.sub(pattern, replace, st) \n",
    "\n",
    "    pattern = '[\\s+ \\\\\\' \\? 0-9 \"]'\n",
    "    st = re.sub(pattern, replace, st)     \n",
    "\n",
    "    return st"
   ]
  },
  {
   "cell_type": "code",
   "execution_count": 9,
   "metadata": {},
   "outputs": [],
   "source": [
    "def unique_st(st: str) -> list:\n",
    "    st_list = st.lower().split(' ')\n",
    "    st_list = sorted(list(set(st_list)))\n",
    "    if st_list[0].strip() == '':\n",
    "        st_list.pop(0)\n",
    "#     st_list = sorted ( st_list )\n",
    "    return st_list"
   ]
  },
  {
   "cell_type": "code",
   "execution_count": 10,
   "metadata": {},
   "outputs": [],
   "source": [
    "def head_tail_st(st_list : list, count : int = 5):\n",
    "    disp = st_list[:count] + ['...'] + st_list[-count:]\n",
    "    return disp\n",
    "\n",
    "def wordin_st(st: list, word : str):\n",
    "    return st.index(word) if word in st else -1"
   ]
  },
  {
   "cell_type": "markdown",
   "metadata": {},
   "source": [
    "## Word to Ignore"
   ]
  },
  {
   "cell_type": "code",
   "execution_count": 11,
   "metadata": {},
   "outputs": [],
   "source": [
    "def df_w2ignore(w2ignore_csv : str):\n",
    "    df_w2ignore = pd.read_csv(w2ignore_csv)\n",
    "    return df_w2ignore\n",
    "\n",
    "def w2ig_get_list(w2ignore_csv):\n",
    "    df = df_w2ignore(w2ignore_csv)\n",
    "    col = list(df.columns)[0]\n",
    "    w2ignore_list = list(df[col])\n",
    "    return w2ignore_list\n",
    "\n",
    "# def w2ig_get_list(df_w2ignore):\n",
    "#     col = list(df_w2ignore.columns)[0]\n",
    "#     w2ignore_list = list(df_w2ignore[col])\n",
    "#     return w2ignore_list\n",
    "\n",
    "def w2ig_remove(st, w2ig):\n",
    "    st = sorted( list( set(st) - set(w2ig) ))\n",
    "    return st\n",
    "    \n",
    "def w2ig_process(st, w2ignore_csv):\n",
    "    w2ig_list = w2ig_get_list(w2ignore_csv)\n",
    "    return w2ig_remove( st , w2ig_list )\n",
    "\n",
    "# def w2ig_process(st, w2ignore_csv):\n",
    "#     df = df_w2ignore(w2ignore_csv)\n",
    "#     w2ig_list = w2ig_get_list(df)\n",
    "#     return w2ig_remove( st , w2ig_list )"
   ]
  },
  {
   "cell_type": "markdown",
   "metadata": {},
   "source": [
    "## Save Subtitle to CSV"
   ]
  },
  {
   "cell_type": "code",
   "execution_count": 12,
   "metadata": {},
   "outputs": [],
   "source": [
    "def srt_to_csv(st, movie_csv):     # st = subtitle (list),  movie_csv = filename of movie.csv\n",
    "    srt_words = 'Subtitle Words'\n",
    "    cols = [ srt_words , 'Seach' , 'Ignore']\n",
    "    df = pd.DataFrame(columns = cols)\n",
    "    df[srt_words] = st\n",
    "    df.to_csv(movie_csv, index = False)"
   ]
  },
  {
   "cell_type": "code",
   "execution_count": 13,
   "metadata": {},
   "outputs": [],
   "source": [
    "def save_srt(st, movie_csv):     # st = subtitle (list),  movie_csv = filename of movie.csv\n",
    "    srt_words = 'Subtitle Words'\n",
    "    cols = [ srt_words , 'Search' , 'Ignore']\n",
    "    df = pd.DataFrame(columns = cols)\n",
    "    df[srt_words] = st\n",
    "    df.to_csv(movie_csv, index = False)\n",
    "    return df"
   ]
  },
  {
   "cell_type": "markdown",
   "metadata": {},
   "source": [
    "## Procesing Subtitle"
   ]
  },
  {
   "cell_type": "markdown",
   "metadata": {},
   "source": [
    "#### Get list"
   ]
  },
  {
   "cell_type": "code",
   "execution_count": 14,
   "metadata": {},
   "outputs": [
    {
     "data": {
      "text/plain": [
       "'./data/The.Lord.of.The.Rings.The.Two.Towers.2002.srt'"
      ]
     },
     "execution_count": 14,
     "metadata": {},
     "output_type": "execute_result"
    }
   ],
   "source": [
    "movie_srt"
   ]
  },
  {
   "cell_type": "code",
   "execution_count": 15,
   "metadata": {},
   "outputs": [],
   "source": [
    "## Start Here ##\n",
    "\n",
    "st = read_st(movie_srt)\n",
    "st = parse_st(st)\n",
    "st = clean_st(st)\n",
    "st = unique_st(st)"
   ]
  },
  {
   "cell_type": "code",
   "execution_count": null,
   "metadata": {},
   "outputs": [],
   "source": [
    "st"
   ]
  },
  {
   "cell_type": "markdown",
   "metadata": {},
   "source": [
    "#### Remove Ignore"
   ]
  },
  {
   "cell_type": "code",
   "execution_count": 17,
   "metadata": {},
   "outputs": [
    {
     "data": {
      "text/plain": [
       "1539"
      ]
     },
     "execution_count": 17,
     "metadata": {},
     "output_type": "execute_result"
    },
    {
     "data": {
      "text/plain": [
       "1535"
      ]
     },
     "execution_count": 17,
     "metadata": {},
     "output_type": "execute_result"
    }
   ],
   "source": [
    "len(st)\n",
    "st = w2ig_process(st, w2ignore_csv)\n",
    "len(st)"
   ]
  },
  {
   "cell_type": "code",
   "execution_count": 18,
   "metadata": {},
   "outputs": [],
   "source": [
    "dfX = save_srt(st, movie_title_user_action)\n",
    "# Think no need to dfX"
   ]
  },
  {
   "cell_type": "markdown",
   "metadata": {},
   "source": [
    "## User Action"
   ]
  },
  {
   "cell_type": "markdown",
   "metadata": {},
   "source": [
    "User should now open CSV file and select words:<br>\n",
    "- to search dic<br>\n",
    "- to ignore"
   ]
  },
  {
   "cell_type": "code",
   "execution_count": 19,
   "metadata": {},
   "outputs": [
    {
     "name": "stdout",
     "output_type": "stream",
     "text": [
      "File to open ./data/The.Lord.of.The.Rings.The.Two.Towers.2002_user_action.csv\n"
     ]
    }
   ],
   "source": [
    "print(f'File to open {movie_title_user_action}')"
   ]
  },
  {
   "cell_type": "markdown",
   "metadata": {},
   "source": [
    "## Update w2ignore"
   ]
  },
  {
   "cell_type": "code",
   "execution_count": 20,
   "metadata": {},
   "outputs": [
    {
     "data": {
      "text/plain": [
       "'./data/w2ignore-charlie.csv'"
      ]
     },
     "execution_count": 20,
     "metadata": {},
     "output_type": "execute_result"
    }
   ],
   "source": [
    "user_ignore_file"
   ]
  },
  {
   "cell_type": "code",
   "execution_count": 21,
   "metadata": {},
   "outputs": [],
   "source": [
    "dfStage2 = pd.read_csv(movie_title_user_action)\n",
    "dfUserIgnoreFile = pd.read_csv(user_ignore_file,squeeze=True)"
   ]
  },
  {
   "cell_type": "code",
   "execution_count": 22,
   "metadata": {},
   "outputs": [
    {
     "data": {
      "text/html": [
       "<div>\n",
       "<style scoped>\n",
       "    .dataframe tbody tr th:only-of-type {\n",
       "        vertical-align: middle;\n",
       "    }\n",
       "\n",
       "    .dataframe tbody tr th {\n",
       "        vertical-align: top;\n",
       "    }\n",
       "\n",
       "    .dataframe thead th {\n",
       "        text-align: right;\n",
       "    }\n",
       "</style>\n",
       "<table border=\"1\" class=\"dataframe\">\n",
       "  <thead>\n",
       "    <tr style=\"text-align: right;\">\n",
       "      <th></th>\n",
       "      <th>Subtitle Words</th>\n",
       "      <th>Search</th>\n",
       "      <th>Ignore</th>\n",
       "    </tr>\n",
       "  </thead>\n",
       "  <tbody>\n",
       "    <tr>\n",
       "      <th>0</th>\n",
       "      <td>able</td>\n",
       "      <td>NaN</td>\n",
       "      <td>NaN</td>\n",
       "    </tr>\n",
       "    <tr>\n",
       "      <th>1</th>\n",
       "      <td>about</td>\n",
       "      <td>NaN</td>\n",
       "      <td>NaN</td>\n",
       "    </tr>\n",
       "    <tr>\n",
       "      <th>2</th>\n",
       "      <td>above</td>\n",
       "      <td>NaN</td>\n",
       "      <td>NaN</td>\n",
       "    </tr>\n",
       "    <tr>\n",
       "      <th>3</th>\n",
       "      <td>accept</td>\n",
       "      <td>NaN</td>\n",
       "      <td>NaN</td>\n",
       "    </tr>\n",
       "    <tr>\n",
       "      <th>4</th>\n",
       "      <td>account</td>\n",
       "      <td>NaN</td>\n",
       "      <td>NaN</td>\n",
       "    </tr>\n",
       "    <tr>\n",
       "      <th>...</th>\n",
       "      <td>...</td>\n",
       "      <td>...</td>\n",
       "      <td>...</td>\n",
       "    </tr>\n",
       "    <tr>\n",
       "      <th>1530</th>\n",
       "      <td>yesterday</td>\n",
       "      <td>NaN</td>\n",
       "      <td>NaN</td>\n",
       "    </tr>\n",
       "    <tr>\n",
       "      <th>1531</th>\n",
       "      <td>yet</td>\n",
       "      <td>NaN</td>\n",
       "      <td>NaN</td>\n",
       "    </tr>\n",
       "    <tr>\n",
       "      <th>1532</th>\n",
       "      <td>young</td>\n",
       "      <td>NaN</td>\n",
       "      <td>NaN</td>\n",
       "    </tr>\n",
       "    <tr>\n",
       "      <th>1533</th>\n",
       "      <td>your</td>\n",
       "      <td>NaN</td>\n",
       "      <td>NaN</td>\n",
       "    </tr>\n",
       "    <tr>\n",
       "      <th>1534</th>\n",
       "      <td>yourself</td>\n",
       "      <td>NaN</td>\n",
       "      <td>NaN</td>\n",
       "    </tr>\n",
       "  </tbody>\n",
       "</table>\n",
       "<p>1535 rows × 3 columns</p>\n",
       "</div>"
      ],
      "text/plain": [
       "     Subtitle Words  Search  Ignore\n",
       "0              able     NaN     NaN\n",
       "1             about     NaN     NaN\n",
       "2             above     NaN     NaN\n",
       "3            accept     NaN     NaN\n",
       "4           account     NaN     NaN\n",
       "...             ...     ...     ...\n",
       "1530      yesterday     NaN     NaN\n",
       "1531            yet     NaN     NaN\n",
       "1532          young     NaN     NaN\n",
       "1533           your     NaN     NaN\n",
       "1534       yourself     NaN     NaN\n",
       "\n",
       "[1535 rows x 3 columns]"
      ]
     },
     "execution_count": 22,
     "metadata": {},
     "output_type": "execute_result"
    },
    {
     "data": {
      "text/plain": [
       "0         last\n",
       "1    yesterday\n",
       "2         able\n",
       "Name: Ignore, dtype: object"
      ]
     },
     "execution_count": 22,
     "metadata": {},
     "output_type": "execute_result"
    }
   ],
   "source": [
    "dfStage2\n",
    "dfUserIgnoreFile"
   ]
  },
  {
   "cell_type": "code",
   "execution_count": 23,
   "metadata": {},
   "outputs": [
    {
     "data": {
      "text/plain": [
       "0       False\n",
       "1       False\n",
       "2       False\n",
       "3       False\n",
       "4       False\n",
       "        ...  \n",
       "1530    False\n",
       "1531    False\n",
       "1532    False\n",
       "1533    False\n",
       "1534    False\n",
       "Name: Ignore, Length: 1535, dtype: bool"
      ]
     },
     "execution_count": 23,
     "metadata": {},
     "output_type": "execute_result"
    }
   ],
   "source": [
    "dfStage2[\"Ignore\"].notna()"
   ]
  },
  {
   "cell_type": "code",
   "execution_count": 24,
   "metadata": {},
   "outputs": [
    {
     "data": {
      "text/plain": [
       "0         last\n",
       "1    yesterday\n",
       "2         able\n",
       "Name: Ignore, dtype: object"
      ]
     },
     "execution_count": 24,
     "metadata": {},
     "output_type": "execute_result"
    }
   ],
   "source": [
    "dfUserIgnoreFile"
   ]
  },
  {
   "cell_type": "code",
   "execution_count": 25,
   "metadata": {},
   "outputs": [
    {
     "data": {
      "text/plain": [
       "pandas.core.series.Series"
      ]
     },
     "execution_count": 25,
     "metadata": {},
     "output_type": "execute_result"
    }
   ],
   "source": [
    "type(dfUserIgnoreFile)"
   ]
  },
  {
   "cell_type": "code",
   "execution_count": 26,
   "metadata": {},
   "outputs": [],
   "source": [
    "# new_ignore_word = sorted(list(set(  dfStage2[dfStage2[\"Ignore\"].notna()][\"Subtitle Words\"] \n",
    "#     .append(dfUserIgnoreFile[dfUserIgnoreFile.notna()])   )))\n",
    "# new_ignore_word"
   ]
  },
  {
   "cell_type": "code",
   "execution_count": 27,
   "metadata": {},
   "outputs": [
    {
     "data": {
      "text/plain": [
       "pandas.core.series.Series"
      ]
     },
     "execution_count": 27,
     "metadata": {},
     "output_type": "execute_result"
    }
   ],
   "source": [
    "dfUserIgnoreFilenew = ( dfStage2[dfStage2[\"Ignore\"].notna()][\"Subtitle Words\"] \n",
    "    .append(dfUserIgnoreFile[dfUserIgnoreFile.notna()]))\n",
    "type(dfUserIgnoreFilenew)"
   ]
  },
  {
   "cell_type": "code",
   "execution_count": 28,
   "metadata": {},
   "outputs": [
    {
     "data": {
      "text/plain": [
       "0         last\n",
       "1    yesterday\n",
       "2         able\n",
       "dtype: object"
      ]
     },
     "execution_count": 28,
     "metadata": {},
     "output_type": "execute_result"
    }
   ],
   "source": [
    "dfUserIgnoreFilenew"
   ]
  },
  {
   "cell_type": "code",
   "execution_count": 29,
   "metadata": {},
   "outputs": [],
   "source": [
    "dfUserIgnoreFilenew.drop_duplicates(inplace=True)"
   ]
  },
  {
   "cell_type": "code",
   "execution_count": 30,
   "metadata": {},
   "outputs": [],
   "source": [
    "dfUserIgnoreFilenew.to_csv(\"./data/temp.csv\", index=False)"
   ]
  },
  {
   "cell_type": "code",
   "execution_count": 31,
   "metadata": {},
   "outputs": [
    {
     "data": {
      "text/plain": [
       "0         last\n",
       "1    yesterday\n",
       "2         able\n",
       "Name: Ignore, dtype: object"
      ]
     },
     "execution_count": 31,
     "metadata": {},
     "output_type": "execute_result"
    }
   ],
   "source": [
    "dfUserIgnoreFile"
   ]
  },
  {
   "cell_type": "code",
   "execution_count": 32,
   "metadata": {},
   "outputs": [],
   "source": [
    "dfUserIgnoreFilenew.to_csv(\"./data/temp.csv\")"
   ]
  },
  {
   "cell_type": "code",
   "execution_count": 33,
   "metadata": {},
   "outputs": [
    {
     "ename": "NameError",
     "evalue": "name 'new_ignore_word' is not defined",
     "output_type": "error",
     "traceback": [
      "\u001b[1;31m---------------------------------------------------------------------------\u001b[0m",
      "\u001b[1;31mNameError\u001b[0m                                 Traceback (most recent call last)",
      "\u001b[1;32m<ipython-input-33-190a29499acb>\u001b[0m in \u001b[0;36m<module>\u001b[1;34m\u001b[0m\n\u001b[1;32m----> 1\u001b[1;33m \u001b[0mdfUserIgnoreFile\u001b[0m\u001b[1;33m[\u001b[0m\u001b[1;34m'Ignore'\u001b[0m\u001b[1;33m]\u001b[0m \u001b[1;33m=\u001b[0m \u001b[0mnew_ignore_word\u001b[0m\u001b[1;33m\u001b[0m\u001b[1;33m\u001b[0m\u001b[0m\n\u001b[0m",
      "\u001b[1;31mNameError\u001b[0m: name 'new_ignore_word' is not defined"
     ]
    }
   ],
   "source": [
    "dfUserIgnoreFile['Ignore'] = new_ignore_word"
   ]
  },
  {
   "cell_type": "code",
   "execution_count": null,
   "metadata": {},
   "outputs": [],
   "source": []
  },
  {
   "cell_type": "code",
   "execution_count": null,
   "metadata": {},
   "outputs": [],
   "source": [
    "new_ignore_word"
   ]
  },
  {
   "cell_type": "code",
   "execution_count": null,
   "metadata": {},
   "outputs": [],
   "source": [
    "df[df[\"Ignore\"].notna()]"
   ]
  },
  {
   "cell_type": "markdown",
   "metadata": {},
   "source": [
    "## Saving Subtitle to CSV"
   ]
  },
  {
   "cell_type": "code",
   "execution_count": null,
   "metadata": {},
   "outputs": [],
   "source": [
    "srt_to_csv(st, movie_csv)"
   ]
  },
  {
   "cell_type": "code",
   "execution_count": null,
   "metadata": {},
   "outputs": [],
   "source": [
    "# check file time of creation & head the output file\n",
    "\n",
    "!dir \".\\data\\Spellbound 1945.csv\"\n",
    "!head  \".\\data\\Spellbound 1945.csv\""
   ]
  },
  {
   "cell_type": "markdown",
   "metadata": {},
   "source": [
    "## Update w2ignore with new selected ignore words"
   ]
  },
  {
   "cell_type": "code",
   "execution_count": null,
   "metadata": {},
   "outputs": [],
   "source": [
    "df"
   ]
  },
  {
   "cell_type": "code",
   "execution_count": null,
   "metadata": {},
   "outputs": [],
   "source": []
  },
  {
   "cell_type": "code",
   "execution_count": null,
   "metadata": {},
   "outputs": [],
   "source": [
    "A = 10\n",
    "B = 11\n",
    "C = 12"
   ]
  },
  {
   "cell_type": "code",
   "execution_count": null,
   "metadata": {},
   "outputs": [],
   "source": [
    "A\n",
    "B\n",
    "C"
   ]
  },
  {
   "cell_type": "code",
   "execution_count": null,
   "metadata": {},
   "outputs": [],
   "source": [
    "print(A)\n",
    "print(B)\n",
    "print(A)\n"
   ]
  },
  {
   "cell_type": "markdown",
   "metadata": {
    "heading_collapsed": true
   },
   "source": [
    "# Checkpoint here - Last done till above"
   ]
  },
  {
   "cell_type": "markdown",
   "metadata": {},
   "source": [
    "# Check point - Daddy worked up to here (above).  Below is API calls (codes as we have done previously.  Above are the added ignore file, write process output to csv"
   ]
  },
  {
   "cell_type": "markdown",
   "metadata": {},
   "source": [
    "## Calling Dictionary API"
   ]
  },
  {
   "cell_type": "code",
   "execution_count": null,
   "metadata": {
    "executionInfo": {
     "elapsed": 630,
     "status": "ok",
     "timestamp": 1620615114990,
     "user": {
      "displayName": "Charlie Blog",
      "photoUrl": "",
      "userId": "05996586073871680296"
     },
     "user_tz": -480
    },
    "id": "xGoDQ9ffYcJn"
   },
   "outputs": [],
   "source": [
    "import urllib.request\n",
    "import json\n",
    "\n",
    "serviceinput = 'input1'\n",
    "serviceoutput = 'output1'\n",
    "\n",
    "def DicReq():\n",
    "    \n",
    "    url = 'https://api.dictionaryapi.dev/api/v2/entries/en/word'\n",
    "    url = 'https://www.dictionaryapi.com/api/v3/references/learners/json/apple'\n",
    "    url = 'https://www.dictionaryapi.com/api/v3/references/learners/json/apple?key=8ed98e54-182a-4fa3-b26a-8e22aae9caa9'\n",
    "    api_key = '8ed98e54-182a-4fa3-b26a-8e22aae9caa9'\n",
    "    headers = {'Content-Type':'application/json', 'Authorization':('Bearer '+ api_key)}\n",
    "    \n",
    "    req = urllib.request.Request(url, headers=headers)\n",
    "\n",
    "    try:\n",
    "        response = urllib.request.urlopen(req)\n",
    "        result = response.read()\n",
    "        return result\n",
    "\n",
    "    except urllib.error.HTTPError as error:\n",
    "        print(\"The request failed with status code: \" + str(error.code))\n",
    "        print(error.info())\n",
    "        print(json.loads(error.read().decode(\"utf8\", 'ignore')))        "
   ]
  },
  {
   "cell_type": "code",
   "execution_count": null,
   "metadata": {
    "scrolled": true
   },
   "outputs": [],
   "source": [
    "resp = DicReq()"
   ]
  },
  {
   "cell_type": "code",
   "execution_count": null,
   "metadata": {},
   "outputs": [],
   "source": [
    "json.loads(resp)"
   ]
  },
  {
   "cell_type": "markdown",
   "metadata": {},
   "source": [
    "## Sample Output for Testing"
   ]
  },
  {
   "cell_type": "code",
   "execution_count": null,
   "metadata": {},
   "outputs": [],
   "source": [
    "false = False\n",
    "true = True"
   ]
  },
  {
   "cell_type": "code",
   "execution_count": null,
   "metadata": {},
   "outputs": [],
   "source": [
    "dicX = [{\"meta\":{\"id\":\"apple\",\"uuid\":\"e3bcad1b-e6cc-4e94-98d2-0efa435d84ed\",\"src\":\"learners\",\"section\":\"alpha\",\"target\":{\"tuuid\":\"44e59f49-db3f-4db0-9639-788033a87df7\",\"tsrc\":\"collegiate\"},\"highlight\":\"yes\",\"stems\":[\"apple\",\"apples\",\"compare apples to apples\\\\/oranges\",\"compare apples to apples\",\"compare apples to oranges\",\"the apple of someone\\\\u0027s eye\",\"the apple of someones eye\",\"upset the apple cart\",\"bad apple\",\"rotten apple\"],\"app-shortdef\":{\"hw\":\"apple\",\"fl\":\"noun\",\"def\":[\"{bc} a round fruit with red, yellow, or green skin and firm white flesh\"]},\"offensive\":false},\"hwi\":{\"hw\":\"ap*ple\",\"prs\":[{\"ipa\":\"\\\\u02c8\\\\u00e6p\\\\u0259l\",\"sound\":{\"audio\":\"apple001\"}}]},\"fl\":\"noun\",\"ins\":[{\"il\":\"plural\",\"if\":\"ap*ples\"}],\"def\":[{\"sseq\":[[[\"sense\",{\"dt\":[[\"text\",\"{bc}a round fruit with red, yellow, or green skin and firm white flesh \"],[\"wsgram\",\"count\"],[\"vis\",[{\"t\":\"crisp juicy {it}apples{\\\\/it}\"},{\"t\":\"a bad\\\\/rotten {it}apple{\\\\/it} [=an apple that has rotted and cannot be eaten]\"}]],[\"wsgram\",\"noncount\"],[\"vis\",[{\"t\":\"a piece of {it}apple{\\\\/it}\"}]],[\"uns\",[[[\"text\",\"often used before another noun \"],[\"vis\",[{\"t\":\"{it}apple{\\\\/it} pie\"},{\"t\":\"{it}apple{\\\\/it} juice\"},{\"t\":\"{it}apple{\\\\/it} trees\"}]]]]],[\"text\",\" \"],[\"snote\",[[\"t\",\"In figurative use, a {phrase}bad apple{\\\\/phrase} or {phrase}rotten apple{\\\\/phrase} is a bad member of a group who causes problems for the rest of the group.\"],[\"vis\",[{\"t\":\"A few {it}bad apples{\\\\/it} cheated on the test, and now everyone has to take the test again.\"},{\"t\":\"One {it}rotten apple{\\\\/it} ruined the day for the rest of us.\"}]]]],[\"text\",\"{dx}see also {dxt|adam\\\\u0027s apple||} {dxt|crab apple||}{\\\\/dx}\"]]}]]]}],\"dros\":[{\"drp\":\"compare apples to apples\\\\/oranges\",\"def\":[{\"sseq\":[[[\"sense\",{\"dt\":[[\"text\",\"{dx}see {dxt|compare:1||}{\\\\/dx}\"]]}]]]}]},{\"drp\":\"the apple of someone\\\\u0027s eye\",\"def\":[{\"sseq\":[[[\"sense\",{\"dt\":[[\"text\",\"{bc}a person or thing that someone loves very much \"],[\"vis\",[{\"t\":\"His daughter is {it}the apple of his eye{\\\\/it}.\"}]]]}]]]}]},{\"drp\":\"upset the apple cart\",\"def\":[{\"sseq\":[[[\"sense\",{\"dt\":[[\"text\",\"{dx}see {dxt|upset:2||}{\\\\/dx}\"]]}]]]}]}],\"shortdef\":[\"a round fruit with red, yellow, or green skin and firm white flesh \\\\u2014often used before another noun\"]},{\"meta\":{\"id\":\"apple-cheeked\",\"uuid\":\"bcd1eaf2-735f-47d1-abee-fb9240ae9937\",\"src\":\"learners\",\"section\":\"alpha\",\"target\":{\"tuuid\":\"e4de0b04-6301-4403-a4d2-84dc8f9f9d8f\",\"tsrc\":\"collegiate\"},\"stems\":[\"apple-cheeked\"],\"app-shortdef\":{\"hw\":\"apple-cheeked\",\"fl\":\"adjective\",\"def\":[\"{bc} having red or pink cheeks\"]},\"offensive\":false},\"hwi\":{\"hw\":\"apple-cheeked\",\"prs\":[{\"ipa\":\"\\\\u02c8\\\\u00e6p\\\\u0259l\\\\u02cct\\\\u0283i\\\\u02d0kt\"}]},\"fl\":\"adjective\",\"def\":[{\"sseq\":[[[\"sense\",{\"dt\":[[\"text\",\"{bc}having red or pink cheeks \"],[\"vis\",[{\"t\":\"{it}apple-cheeked{\\\\/it} youngsters\"}]]]}]]]}],\"shortdef\":[\"having red or pink cheeks\"]},{\"meta\":{\"id\":\"apple pie\",\"uuid\":\"581b7222-3531-4cea-b167-bcd7b5846e41\",\"src\":\"learners\",\"section\":\"alpha\",\"stems\":[\"apple pie\",\"apple pies\",\"(as) american as apple pie\",\"american as apple pie\",\"as american as apple pie\",\"in apple-pie order\"],\"app-shortdef\":{\"hw\":\"apple pie\",\"fl\":\"noun\",\"def\":[\"{bc} a sweet pie made with apples\"]},\"offensive\":false},\"hwi\":{\"hw\":\"apple pie\"},\"fl\":\"noun\",\"ins\":[{\"il\":\"plural\",\"ifc\":\"~ pies\",\"if\":\"apple pies\"}],\"gram\":\"count\",\"def\":[{\"sseq\":[[[\"sense\",{\"dt\":[[\"text\",\"{bc}a sweet pie made with apples\"]]}]]]}],\"dros\":[{\"drp\":\"(as) American as apple pie\",\"def\":[{\"sseq\":[[[\"sense\",{\"dt\":[[\"text\",\"{bc}very or typically American \"],[\"vis\",[{\"t\":\"Baseball is {it}as American as apple pie{\\\\/it}.\"}]]]}]]]}]},{\"drp\":\"in apple-pie order\",\"def\":[{\"sseq\":[[[\"sense\",{\"sls\":[\"informal\"],\"dt\":[[\"text\",\"{bc}arranged neatly or perfectly {bc}in perfect order \"],[\"vis\",[{\"t\":\"Everything in the cupboard was (arranged) {it}in apple-pie order{\\\\/it}.\"}]]]}]]]}]}],\"shortdef\":[\"a sweet pie made with apples\"]},{\"meta\":{\"id\":\"apple polisher\",\"uuid\":\"ffe24101-8aee-461a-aaa9-5c981a764427\",\"src\":\"learners\",\"section\":\"alpha\",\"stems\":[\"apple polisher\",\"apple polishers\"],\"app-shortdef\":{\"hw\":\"apple polisher\",\"fl\":\"noun\",\"def\":[\"{it}US{\\\\/it}, {it}informal + disapproving{\\\\/it} {bc} a person who tries to get the approval and friendship of someone in authority by praise, flattery, etc.\"]},\"offensive\":false},\"hwi\":{\"hw\":\"apple polisher\"},\"fl\":\"noun\",\"ins\":[{\"il\":\"plural\",\"ifc\":\"~ -ers\",\"if\":\"apple polishers\"}],\"gram\":\"count\",\"def\":[{\"sseq\":[[[\"sense\",{\"sls\":[\"US\",\"informal + disapproving\"],\"dt\":[[\"text\",\"{bc}a person who tries to get the approval and friendship of someone in authority by praise, flattery, etc. \"],[\"vis\",[{\"t\":\"an executive surrounded by {it}apple polishers{\\\\/it}\"}]]]}]]]}],\"shortdef\":[\"a person who tries to get the approval and friendship of someone in authority by praise, flattery, etc.\"]},{\"meta\":{\"id\":\"Adam\\\\u0027s apple\",\"uuid\":\"eb16d36f-38e1-499d-8d0e-dc92397aa56c\",\"src\":\"learners\",\"section\":\"alpha\",\"target\":{\"tuuid\":\"f7f0bd44-5d66-476b-abea-2cc3c3086b3b\",\"tsrc\":\"collegiate\"},\"stems\":[\"adam\\\\u0027s apple\",\"adams apple\",\"adam\\\\u0027s apples\",\"adams apples\"],\"app-shortdef\":{\"hw\":\"Adam\\\\u0027s apple\",\"fl\":\"noun\",\"def\":[\"{bc} the lump that sticks out in the front of a person\\\\u0027s neck, that is usually larger in men than in women, and that moves when a person talks or swallows\"]},\"offensive\":false},\"hwi\":{\"hw\":\"Adam\\\\u0027s apple\"},\"fl\":\"noun\",\"ins\":[{\"il\":\"plural\",\"ifc\":\"~ apples\",\"if\":\"Adam\\\\u0027s apples\"}],\"gram\":\"count\",\"def\":[{\"sseq\":[[[\"sense\",{\"dt\":[[\"text\",\"{bc}the lump that sticks out in the front of a person\\\\u0027s neck, that is usually larger in men than in women, and that moves when a person talks or swallows\"]]}]]]}],\"shortdef\":[\"the lump that sticks out in the front of a person\\\\u0027s neck, that is usually larger in men than in women, and that moves when a person talks or swallows\"]},{\"meta\":{\"id\":\"Big Apple\",\"uuid\":\"6d00925e-431f-4ca1-8ac7-008092764310\",\"src\":\"learners\",\"section\":\"alpha\",\"stems\":[\"big apple\",\"the big apple\"],\"app-shortdef\":{\"hw\":\"Big Apple\",\"fl\":\"noun\",\"def\":[\"{it}informal{\\\\/it} used as a name for New York City\"]},\"offensive\":false},\"hwi\":{\"hw\":\"Big Apple\"},\"fl\":\"noun\",\"dros\":[{\"drp\":\"the Big Apple\",\"def\":[{\"sseq\":[[[\"sense\",{\"sls\":[\"informal\"],\"dt\":[[\"uns\",[[[\"text\",\"used as a name for New York City \"],[\"vis\",[{\"t\":\"She moved to {it}the Big Apple{\\\\/it} after she graduated.\"}]]]]]]}]]]}]}],\"shortdef\":[]},{\"meta\":{\"id\":\"candy apple\",\"uuid\":\"60ef9529-6409-413f-93d0-685b4df351ec\",\"src\":\"learners\",\"section\":\"alpha\",\"stems\":[\"candy apple\",\"candy apples\"],\"app-shortdef\":{\"hw\":\"candy apple\",\"fl\":\"noun\",\"def\":[\"{it}US{\\\\/it} {bc} an apple that is covered with a sugary mixture that becomes hard\"]},\"offensive\":false},\"hwi\":{\"hw\":\"candy apple\"},\"fl\":\"noun\",\"ins\":[{\"il\":\"plural\",\"ifc\":\"~ apples\",\"if\":\"candy apples\"}],\"gram\":\"count\",\"def\":[{\"sseq\":[[[\"sense\",{\"sls\":[\"US\"],\"dt\":[[\"text\",\"{bc}an apple that is covered with a sugary mixture that becomes hard\"]]}]]]}],\"shortdef\":[\"an apple that is covered with a sugary mixture that becomes hard\"]},{\"meta\":{\"id\":\"crab apple\",\"uuid\":\"aaf6f331-33e0-4f6e-bb71-950bf127faa1\",\"src\":\"learners\",\"section\":\"alpha\",\"target\":{\"tuuid\":\"a77653b6-6d24-4a83-8142-40763b24460a\",\"tsrc\":\"collegiate\"},\"stems\":[\"crab apple\",\"crab apples\"],\"app-shortdef\":{\"hw\":\"crab apple\",\"fl\":\"noun\",\"def\":[\"{bc} a small, sour apple or the kind of tree that produces it\"]},\"offensive\":false},\"hwi\":{\"hw\":\"crab apple\"},\"fl\":\"noun\",\"ins\":[{\"il\":\"plural\",\"ifc\":\"~ apples\",\"if\":\"crab apples\"}],\"gram\":\"count\",\"def\":[{\"sseq\":[[[\"sense\",{\"dt\":[[\"text\",\"{bc}a small, sour apple or the kind of tree that produces it\"]]}]]]}],\"shortdef\":[\"a small, sour apple or the kind of tree that produces it\"]},{\"meta\":{\"id\":\"American:2\",\"uuid\":\"f0722e99-1136-42da-951c-220aaede1b27\",\"src\":\"learners\",\"section\":\"alpha\",\"target\":{\"tuuid\":\"296ccd06-4b79-4f57-869b-c7be89668420\",\"tsrc\":\"collegiate\"},\"stems\":[\"american\",\"americanness\",\"americannesses\",\"(as) american as apple pie\",\"american as apple pie\",\"as american as apple pie\"],\"app-shortdef\":{\"hw\":\"American:2\",\"fl\":\"adjective\",\"def\":[\"{bc} of or relating to the U.S. or its citizens\",\"{bc} of or relating to North America, South America, or the people who live there\"]},\"offensive\":false},\"hom\":2,\"hwi\":{\"hw\":\"American\",\"altprs\":[{\"ipa\":\"\\\\u0259\\\\u02c8mer\\\\u0259k\\\\u0259n\"}]},\"fl\":\"adjective\",\"def\":[{\"sseq\":[[[\"sense\",{\"sn\":\"1\",\"dt\":[[\"text\",\"{bc}of or relating to the U.S. or its citizens \"],[\"vis\",[{\"t\":\"{it}American{\\\\/it} culture\\\\/government\\\\/history\"},{\"t\":\"the {it}American{\\\\/it} people\"},{\"t\":\"their {it}American{\\\\/it} friends\"}]]]}]],[[\"sense\",{\"sn\":\"2\",\"dt\":[[\"text\",\"{bc}of or relating to North America, South America, or the people who live there \"],[\"vis\",[{\"t\":\"the {it}American{\\\\/it} continents\"},{\"t\":\"a tropical {it}American{\\\\/it} tree\"}]]]}]]]}],\"dros\":[{\"drp\":\"(as) American as apple pie\",\"def\":[{\"sseq\":[[[\"sense\",{\"dt\":[[\"text\",\"{dx}see {dxt|apple pie||}{\\\\/dx}\"]]}]]]}]}],\"shortdef\":[\"of or relating to the U.S. or its citizens\",\"of or relating to North America, South America, or the people who live there\"]},{\"meta\":{\"id\":\"bad:1\",\"uuid\":\"4f14c84e-d024-4da6-8802-dde4a1948b56\",\"src\":\"learners\",\"section\":\"alpha\",\"target\":{\"tuuid\":\"a0b061c5-0990-4f66-874a-dd475a78dce5\",\"tsrc\":\"collegiate\"},\"highlight\":\"yes\",\"stems\":[\"bad\",\"badder\",\"baddest\",\"badness\",\"badnesses\",\"not bad\",\"worse\",\"worser\",\"worst\",\"a bad job\",\"a bad lot\",\"bad apple\",\"come to a bad end\",\"from bad to worse\",\"in a bad way\",\"in someone\\\\u0027s bad books\",\"in someones bad books\",\"too bad\",\"with bad grace\",\"bad debt\",\"bad loan\",\"bad cholesterol\",\"bad guys\",\"feel bad\",\"gone bad\"],\"app-shortdef\":{\"hw\":\"bad:1\",\"fl\":\"adjective\",\"def\":[\"{bc} low or poor in quality\",\"{bc} not correct or proper\",\"{bc} not pleasant, pleasing, or enjoyable\"]},\"offensive\":false},\"hom\":1,\"hwi\":{\"hw\":\"bad\",\"prs\":[{\"ipa\":\"\\\\u02c8b\\\\u00e6d\",\"sound\":{\"audio\":\"bad00001\"}}]},\"fl\":\"adjective\",\"ins\":[{\"if\":\"worse\",\"prs\":[{\"ipa\":\"\\\\u02c8w\\\\u025as\",\"sound\":{\"audio\":\"worse001\"}}]},{\"if\":\"worst\",\"prs\":[{\"ipa\":\"\\\\u02c8w\\\\u025ast\",\"sound\":{\"audio\":\"worst001\"}}]}],\"def\":[{\"sseq\":[[[\"sense\",{\"sn\":\"1 a\",\"dt\":[[\"text\",\"{bc}low or poor in quality \"],[\"vis\",[{\"t\":\"a {it}bad{\\\\/it} repair job\"},{\"t\":\"{it}bad{\\\\/it} work\"},{\"t\":\"The house is in {it}bad{\\\\/it} condition\\\\/shape.\"}]]]}],[\"sense\",{\"sn\":\"b\",\"dt\":[[\"text\",\"{bc}not correct or proper \"],[\"vis\",[{\"t\":\"{it}bad{\\\\/it} manners\"},{\"t\":\"{it}bad{\\\\/it} [={it}incorrect, faulty{\\\\/it}] grammar\"},{\"t\":\"a letter written in {it}bad{\\\\/it} French\"},{\"t\":\"{it}bad{\\\\/it} spelling\"},{\"t\":\"a {it}bad{\\\\/it} check [=a check that cannot be cashed]\"}]],[\"text\",\"{dx}see also {dxt|bad language||}{\\\\/dx}\"]]}]],[[\"sense\",{\"sn\":\"2 a\",\"dt\":[[\"text\",\"{bc}not pleasant, pleasing, or enjoyable \"],[\"vis\",[{\"t\":\"He had a {it}bad{\\\\/it} day at the office.\"},{\"t\":\"I was having a {it}bad{\\\\/it} dream.\"},{\"t\":\"She made a very {it}bad{\\\\/it} impression on her future colleagues.\"},{\"t\":\"The food tastes {it}bad{\\\\/it}.\"},{\"t\":\"The flower smells {it}bad{\\\\/it}.\"},{\"t\":\"He has {it}bad{\\\\/it} breath. [=breath that smells bad]\"},{\"t\":\"We\\\\u0027ve been having {it}bad{\\\\/it} weather lately.\"},{\"t\":\"The medicine left a {it}bad{\\\\/it} taste in his mouth.\"},{\"t\":\"It feels {it}bad{\\\\/it} [={it}uncomfortable, painful{\\\\/it}] to stretch out my arm.\"},{\"t\":\"I look {it}bad{\\\\/it} in this hat. = This hat looks {it}bad{\\\\/it} on me.\"},{\"t\":\"That hat doesn\\\\u0027t look {it}bad{\\\\/it} on you. [=that hat looks good on you]\"}]]]}],[\"sense\",{\"sn\":\"b\",\"dt\":[[\"text\",\"{bc}having, marked by, or relating to problems, troubles, etc. \"],[\"vis\",[{\"t\":\"good and {it}bad{\\\\/it} news\"},{\"t\":\"They have remained together in good times and {it}bad{\\\\/it} (times).\"},{\"t\":\"It\\\\u0027s a {it}bad{\\\\/it} time for business right now.\"},{\"t\":\"a {it}bad{\\\\/it} omen\"},{\"t\":\"{it}bad{\\\\/it} luck\\\\/fortune\"},{\"t\":\"Things are looking pretty {it}bad{\\\\/it} for us at this point.\"},{\"t\":\"I have a {it}bad{\\\\/it} feeling about this.\"}]],[\"text\",\"{dx}see also {dxt|bad blood||} {dxt|bad news||}{\\\\/dx}\"]]}],[\"sense\",{\"sn\":\"c\",\"dt\":[[\"text\",\"{bc}not adequate or suitable \"],[\"vis\",[{\"t\":\"I couldn\\\\u0027t take a picture because the lighting was {it}bad{\\\\/it}.\"},{\"t\":\"It\\\\u0027s a {it}bad{\\\\/it} day for a picnic.\"},{\"t\":\"She made a {it}bad{\\\\/it} marriage.\"},{\"t\":\"Is this a {it}bad{\\\\/it} moment\\\\/time to have a word with you?\"}]]]}],[\"sense\",{\"sn\":\"d\",\"dt\":[[\"text\",\"{bc}not producing or likely to produce a good result \"],[\"vis\",[{\"t\":\"a {it}bad{\\\\/it} deal\"},{\"t\":\"a {it}bad{\\\\/it} risk\"},{\"t\":\"a {it}bad{\\\\/it} idea\\\\/plan\"},{\"t\":\"The plan has its good points and its {it}bad{\\\\/it} points.\"},{\"t\":\"a {phrase}bad debt{\\\\/phrase} [=a debt that will not be paid]\"},{\"t\":\"a {phrase}bad loan{\\\\/phrase} [=a loan that will not be repaid]\"}]]]}],[\"sense\",{\"sn\":\"e\",\"dt\":[[\"text\",\"{bc}expressing criticism or disapproval \"],[\"vis\",[{\"t\":\"The movie got {it}bad{\\\\/it} reviews.\"}]]]}]],[[\"sense\",{\"sn\":\"3 a\",\"dt\":[[\"text\",\"{bc}not healthy {bc}marked or affected by injury or disease \"],[\"vis\",[{\"t\":\"His health is pretty {it}bad{\\\\/it}. = He\\\\u0027s in pretty {it}bad{\\\\/it} health.\"},{\"t\":\"The patient was pretty {it}bad{\\\\/it} [={it}ill, sick{\\\\/it}] last week and even {it}worse{\\\\/it} yesterday but is doing better now.\"},{\"t\":\"He came home early because he was feeling pretty {it}bad{\\\\/it}. [=he wasn\\\\u0027t feeling well]\"},{\"t\":\"My father has a {it}bad{\\\\/it} back\\\\/leg. [=a back\\\\/leg that is always or often painful]\"},{\"t\":\"She has {it}bad{\\\\/it} eyesight\\\\/hearing.\"},{\"t\":\"{it}bad{\\\\/it} teeth\"}]]]}],[\"sense\",{\"sn\":\"b\",\"dt\":[[\"text\",\"{bc}causing harm or trouble \"],[\"vis\",[{\"t\":\"a {it}bad{\\\\/it} diet\"},{\"t\":\"a {it}bad{\\\\/it} influence\"},{\"t\":\"{phrase}bad cholesterol{\\\\/phrase} [=a type of cholesterol that can cause serious health problems when there is too much of it in your blood]\"}]],[\"uns\",[[[\"text\",\"often + {it}for{\\\\/it} \"],[\"vis\",[{\"t\":\"Eating too much can be {it}bad for{\\\\/it} you. = It can be {it}bad for{\\\\/it} you to eat too much.\"},{\"t\":\"Eating all that candy is {it}bad for{\\\\/it} your teeth.\"},{\"t\":\"Watching too much TV is {it}bad for{\\\\/it} children.\"}]]]]]]}]],[[\"sense\",{\"sn\":\"4 a\",\"dt\":[[\"text\",\"{bc}not morally good or right {bc}morally evil or wrong \"],[\"vis\",[{\"t\":\"a {it}bad{\\\\/it} person\"},{\"t\":\"{it}bad{\\\\/it} conduct\\\\/behavior\"},{\"t\":\"a man of {it}bad{\\\\/it} character\"},{\"t\":\"{it}bad{\\\\/it} intentions\\\\/deeds\"},{\"t\":\"It\\\\u0027s hard to tell the good guys from the {phrase}bad guys{\\\\/phrase} in this movie.\"}]],[\"text\",\"{dx}see also {dxt|bad faith||}{\\\\/dx}\"]]}],[\"sense\",{\"sn\":\"b\",\"dt\":[[\"text\",\"{bc}not behaving properly \"],[\"vis\",[{\"t\":\"a {it}bad{\\\\/it} dog\"},{\"t\":\"I\\\\u0027m afraid your son has been a very {it}bad{\\\\/it} [={it}naughty{\\\\/it}] boy.\"}]],[\"text\",\"{dx}see also {dxt|bad boy||}{\\\\/dx}\"]]}]],[[\"sense\",{\"sn\":\"5 a\",\"dt\":[[\"text\",\"{bc}not skillful {bc}not doing or able to do something well \"],[\"vis\",[{\"t\":\"a {it}bad{\\\\/it} musician\"},{\"t\":\"a {it}bad{\\\\/it} doctor\"},{\"t\":\"She was pretty {it}bad{\\\\/it} in that movie. [=she did not act well]\"}]],[\"uns\",[[[\"text\",\"often + {it}at{\\\\/it} \"],[\"vis\",[{\"t\":\"a doctor who\\\\u0027s {it}bad at{\\\\/it} treating nervous patients\"},{\"t\":\"He\\\\u0027s very\\\\/really {it}bad at{\\\\/it} expressing his true feelings.\"}]]]]]]}],[\"sense\",{\"sn\":\"b\",\"dt\":[[\"text\",\"{bc}having a tendency not to do something\"],[\"uns\",[[[\"text\",\"+ {it}about{\\\\/it} \"],[\"vis\",[{\"t\":\"He\\\\u0027s {it}bad about{\\\\/it} getting to work on time. [=he often fails to get to work on time]\"},{\"t\":\"I\\\\u0027m very {it}bad about{\\\\/it} remembering people\\\\u0027s birthdays. [=I often forget people\\\\u0027s birthdays]\"}]]]]]]}]],[[\"sense\",{\"sn\":\"6 a\",\"dt\":[[\"text\",\"{bc}not happy or pleased {bc}feeling regret or guilt about something \"],[\"vis\",[{\"t\":\"I {phrase}feel bad{\\\\/phrase} about what happened. [=I regret what happened]\"},{\"t\":\"She {it}felt bad{\\\\/it} that she forgot to call. = She {it}felt bad{\\\\/it} about forgetting to call.\"}]]]}],[\"sense\",{\"sn\":\"b\",\"dt\":[[\"text\",\"{bc}not cheerful or calm \"],[\"vis\",[{\"t\":\"She\\\\u0027s in a {it}bad{\\\\/it} mood. [=an angry mood]\"},{\"t\":\"He has a {it}bad{\\\\/it} temper. [=he\\\\u0027s bad-tempered; he becomes angry easily]\"}]]]}]],[[\"sense\",{\"sn\":\"7\",\"dt\":[[\"text\",\"{bc}serious or severe \"],[\"vis\",[{\"t\":\"She\\\\u0027s in {it}bad{\\\\/it} trouble.\"},{\"t\":\"He has a {it}bad{\\\\/it} cough\\\\/cold.\"},{\"t\":\"That bruise looks {it}bad{\\\\/it}: you\\\\u0027d better see a doctor about it.\"},{\"t\":\"How {it}bad{\\\\/it} is the pain?\"}]]]}]],[[\"sense\",{\"sn\":\"8\",\"dt\":[[\"text\",\"{bc}no longer good to eat or drink {bc}not fresh \"],[\"vis\",[{\"t\":\"the smell of {it}bad{\\\\/it} fish\"},{\"t\":\"Is the milk still good or has it {phrase}gone bad{\\\\/phrase}? [={it}spoiled{\\\\/it}]\"}]]]}]],[[\"sen\",{\"sn\":\"9\",\"ins\":[{\"if\":\"bad*der\"},{\"if\":\"bad*dest\"}],\"sls\":[\"chiefly US\",\"informal\"]}],[\"sense\",{\"sn\":\"a\",\"dt\":[[\"text\",\"{bc}very good \"],[\"vis\",[{\"t\":\"He\\\\u0027s the {it}baddest{\\\\/it} guitar player you\\\\u0027ll ever hear!\"}]]]}],[\"sense\",{\"sn\":\"b\",\"dt\":[[\"text\",\"{bc}very tough or dangerous \"],[\"vis\",[{\"t\":\"Don\\\\u0027t mess around with him. He\\\\u0027s a {it}bad{\\\\/it} dude.\"}]]]}]]]}],\"uros\":[{\"ure\":\"bad*ness\",\"fl\":\"noun\",\"gram\":\"noncount\",\"utxt\":[[\"vis\",[{\"t\":\"the {it}badness{\\\\/it} of his behavior\"},{\"t\":\"the {it}badness{\\\\/it} [={it}severity{\\\\/it}] of his injuries\"},{\"t\":\"There\\\\u0027s more goodness than {it}badness{\\\\/it} in him.\"}]]]}],\"dros\":[{\"drp\":\"a bad job\",\"def\":[{\"sseq\":[[[\"sense\",{\"dt\":[[\"text\",\"{dx}see {dxt|job||}{\\\\/dx}\"]]}]]]}]},{\"drp\":\"a bad lot\",\"def\":[{\"sseq\":[[[\"sense\",{\"dt\":[[\"text\",\"{dx}see {dxt|lot||}{\\\\/dx}\"]]}]]]}]},{\"drp\":\"bad apple\",\"def\":[{\"sseq\":[[[\"sense\",{\"dt\":[[\"text\",\"{dx}see {dxt|apple||}{\\\\/dx}\"]]}]]]}]},{\"drp\":\"come to a bad end\",\"def\":[{\"sseq\":[[[\"sense\",{\"dt\":[[\"text\",\"{dx}see {dxt|end:1||}{\\\\/dx}\"]]}]]]}]},{\"drp\":\"from bad to worse\",\"def\":[{\"sseq\":[[[\"sense\",{\"dt\":[[\"text\",\"{bc}from a bad state or condition to an even worse state or condition \"],[\"vis\",[{\"t\":\"The company has been struggling for years, and things have recently gone {it}from bad to worse{\\\\/it}.\"}]]]}]]]}]},{\"drp\":\"in a bad way\",\"def\":[{\"sseq\":[[[\"sense\",{\"dt\":[[\"text\",\"{bc}in a bad condition \"],[\"vis\",[{\"t\":\"Without enough funding, public services are {it}in a{\\\\/it} pretty {it}bad way{\\\\/it} right now.\"},{\"t\":\"The patient was {it}in a bad way{\\\\/it} last week but is doing better now.\"}]]]}]]]}]},{\"drp\":\"in someone\\\\u0027s bad books\",\"def\":[{\"sseq\":[[[\"sense\",{\"dt\":[[\"text\",\"{dx}see {dxt|book:1||}{\\\\/dx}\"]]}]]]}]},{\"drp\":\"not bad\",\"def\":[{\"sseq\":[[[\"sense\",{\"dt\":[[\"text\",\"{bc}fairly good or quite good \"],[\"vis\",[{\"t\":\"All things considered, she\\\\u0027s {it}not{\\\\/it} a {it}bad{\\\\/it} singer. [=she\\\\u0027s a pretty good singer]\"},{\"t\":\"{ldquo}How are you?{rdquo} {ldquo}{it}Not{\\\\/it} (too\\\\/so) {it}bad{\\\\/it}, thanks. And you?{rdquo}\"}]]]}]]]}]},{\"drp\":\"too bad\",\"def\":[{\"sseq\":[[[\"sense\",{\"sn\":\"1\",\"dt\":[[\"uns\",[[[\"text\",\"used to show that you are sorry or feel bad about something \"],[\"vis\",[{\"t\":\"It\\\\u0027s {it}too bad{\\\\/it} [={it}unfortunate{\\\\/it}] that John and Mary are getting divorced. = It\\\\u0027s {it}too bad{\\\\/it} about John and Mary getting divorced. [=I\\\\u0027m sorry to hear that John and Mary are getting divorced]\"},{\"t\":\"{ldquo}I won\\\\u0027t be able to come to the party.{rdquo} {ldquo}(That\\\\u0027s) {it}Too bad{\\\\/it}. I was hoping you\\\\u0027d be there.{rdquo}\"}]]]]]]}]],[[\"sense\",{\"sn\":\"2\",\"dt\":[[\"uns\",[[[\"text\",\"used in an ironic way to show that you are not sorry or do not feel bad about something \"],[\"vis\",[{\"t\":\"{ldquo}But I need your help!{rdquo} {ldquo}(That\\\\u0027s just) {it}Too bad{\\\\/it}.{rdquo}\"}]]]]]]}]]]}]},{\"drp\":\"with bad grace\",\"def\":[{\"sseq\":[[[\"sense\",{\"dt\":[[\"text\",\"{dx}see {dxt|grace:1||}{\\\\/dx}\"]]}]]]}]}],\"shortdef\":[\"low or poor in quality\",\"not correct or proper\",\"not pleasant, pleasing, or enjoyable\"]}]"
   ]
  },
  {
   "cell_type": "code",
   "execution_count": null,
   "metadata": {},
   "outputs": [],
   "source": [
    "dicX"
   ]
  },
  {
   "cell_type": "code",
   "execution_count": null,
   "metadata": {},
   "outputs": [],
   "source": [
    "wordin_st(st,'zannenbaum')"
   ]
  },
  {
   "cell_type": "code",
   "execution_count": null,
   "metadata": {},
   "outputs": [],
   "source": [
    "head_tail_st(st)"
   ]
  },
  {
   "cell_type": "markdown",
   "metadata": {},
   "source": [
    "####  Submit Employee Attrition Webservice Requests ( * open * )"
   ]
  },
  {
   "cell_type": "code",
   "execution_count": null,
   "metadata": {
    "colab": {
     "base_uri": "https://localhost:8080/",
     "height": 1000
    },
    "executionInfo": {
     "elapsed": 7661,
     "status": "ok",
     "timestamp": 1620615130715,
     "user": {
      "displayName": "Charlie Blog",
      "photoUrl": "",
      "userId": "05996586073871680296"
     },
     "user_tz": -480
    },
    "id": "TB0bAXq_YcJp",
    "outputId": "3610623f-e715-4e58-a030-3b6204c8f6b7"
   },
   "outputs": [],
   "source": [
    "today = date.today()\n",
    "e = datetime.datetime.now()\n",
    "\n",
    "parsed = df.to_dict(orient='index')\n",
    "dfo = pd.DataFrame()\n",
    "\n",
    "# print(parsed)\n",
    "\n",
    "for k,v in parsed.items():\n",
    "        r = empatt(v)\n",
    "        r = json.loads(r)\n",
    "        r = r['Results'][serviceoutput][0]\n",
    "        dftemp = pd.DataFrame.from_dict(r,orient ='index').transpose()\n",
    "        dfo = dfo.append(dftemp,ignore_index=True)\n",
    "        suc = 'Match' if dftemp.loc[0,'Attrition']==dftemp.loc[0,'Scored Labels'] else '* Mismatch *'\n",
    "        print(f'Processing record = {k+1:3} of {len(parsed):3} {suc:10}')\n",
    "    \n",
    "file = filepath + 'Emp_Attrition (WebService Output)' + ext_c\n",
    "dfo.to_csv(file,index=False)"
   ]
  }
 ],
 "metadata": {
  "colab": {
   "name": "Employee Attrition (webserivce).ipynb",
   "version": ""
  },
  "hide_input": false,
  "kernelspec": {
   "display_name": "Python 3",
   "language": "python",
   "name": "python3"
  },
  "language_info": {
   "codemirror_mode": {
    "name": "ipython",
    "version": 3
   },
   "file_extension": ".py",
   "mimetype": "text/x-python",
   "name": "python",
   "nbconvert_exporter": "python",
   "pygments_lexer": "ipython3",
   "version": "3.8.2"
  },
  "toc": {
   "base_numbering": 1,
   "nav_menu": {},
   "number_sections": true,
   "sideBar": true,
   "skip_h1_title": false,
   "title_cell": "Table of Contents",
   "title_sidebar": "Contents",
   "toc_cell": false,
   "toc_position": {},
   "toc_section_display": true,
   "toc_window_display": false
  },
  "varInspector": {
   "cols": {
    "lenName": 16,
    "lenType": 16,
    "lenVar": 40
   },
   "kernels_config": {
    "python": {
     "delete_cmd_postfix": "",
     "delete_cmd_prefix": "del ",
     "library": "var_list.py",
     "varRefreshCmd": "print(var_dic_list())"
    },
    "r": {
     "delete_cmd_postfix": ") ",
     "delete_cmd_prefix": "rm(",
     "library": "var_list.r",
     "varRefreshCmd": "cat(var_dic_list()) "
    }
   },
   "types_to_exclude": [
    "module",
    "function",
    "builtin_function_or_method",
    "instance",
    "_Feature"
   ],
   "window_display": false
  }
 },
 "nbformat": 4,
 "nbformat_minor": 1
}
