{
 "cells": [
  {
   "cell_type": "code",
   "execution_count": 30,
   "id": "cf91a50e",
   "metadata": {},
   "outputs": [],
   "source": [
    "import numpy as np\n",
    "import pandas as pd\n",
    "import srt\n",
    "import re\n",
    "import string"
   ]
  },
  {
   "cell_type": "markdown",
   "id": "1bcfe354",
   "metadata": {},
   "source": [
    "###### Start"
   ]
  },
  {
   "cell_type": "code",
   "execution_count": 416,
   "id": "f403c455",
   "metadata": {},
   "outputs": [],
   "source": [
    "with open(\"Mission.Impossible.Fallout.2018.1080p.BluRay.X264-DEFLATE.srt\", 'r') as f:\n",
    "    t = f.read()"
   ]
  },
  {
   "cell_type": "code",
   "execution_count": 432,
   "id": "71a18756",
   "metadata": {},
   "outputs": [],
   "source": [
    "subtitle_generator = srt.parse(t)    \n",
    "ln = ''\n",
    "for l in subtitle_generator:\n",
    "    ln += l.content"
   ]
  },
  {
   "cell_type": "code",
   "execution_count": 430,
   "id": "402edd9e",
   "metadata": {},
   "outputs": [
    {
     "data": {
      "text/plain": [
       "32237"
      ]
     },
     "execution_count": 430,
     "metadata": {},
     "output_type": "execute_result"
    }
   ],
   "source": [
    "ln.find('anarchy')"
   ]
  },
  {
   "cell_type": "code",
   "execution_count": 431,
   "id": "4be29a54",
   "metadata": {},
   "outputs": [
    {
     "data": {
      "text/plain": [
       "\"anarchy.That's reven\""
      ]
     },
     "execution_count": 431,
     "metadata": {},
     "output_type": "execute_result"
    }
   ],
   "source": [
    "ln[32237:32237+20]"
   ]
  },
  {
   "cell_type": "code",
   "execution_count": 418,
   "id": "9ec31c11",
   "metadata": {
    "scrolled": true
   },
   "outputs": [
    {
     "data": {
      "text/plain": [
       "49160"
      ]
     },
     "execution_count": 418,
     "metadata": {},
     "output_type": "execute_result"
    },
    {
     "data": {
      "text/plain": [
       "48033"
      ]
     },
     "execution_count": 418,
     "metadata": {},
     "output_type": "execute_result"
    }
   ],
   "source": [
    "len(ln)\n",
    "\n",
    "ln = ln.replace('\\n', ' ')\n",
    "ln = ln.replace('</i><i>', ' ')\n",
    "ln = ln.replace('</i>', ' ')\n",
    "ln = ln.replace('<i>', ' ')\n",
    "ln = ln.replace(string.punctuation, ' ')   # working ?\n",
    "ln = ln.replace('.', ' ')\n",
    "ln = ln.replace('\\\\\\'s', ' ')\n",
    "ln = ln.replace('s\\'', ' ')\n",
    "\n",
    "len(ln)\n",
    "# '!\"#$%&\\'()*+,-./:;<=>?@[\\\\]^_`{|}~'"
   ]
  },
  {
   "cell_type": "code",
   "execution_count": 419,
   "id": "64bf1550",
   "metadata": {},
   "outputs": [
    {
     "data": {
      "text/plain": [
       "48033"
      ]
     },
     "execution_count": 419,
     "metadata": {},
     "output_type": "execute_result"
    }
   ],
   "source": [
    "replace = ' '\n",
    "pattern = '[^a-zA-Z0-9 - ]'\n",
    "ln = re.sub(pattern, replace, ln) \n",
    "\n",
    "pattern = '[\\s+ \\\\\\' \\? 0-9 \"]'\n",
    "ln = re.sub(pattern, replace, ln) \n",
    "\n",
    "# new_string = new_string.split(' ')\n",
    "len(ln)"
   ]
  },
  {
   "cell_type": "code",
   "execution_count": 420,
   "id": "6872ee07",
   "metadata": {},
   "outputs": [],
   "source": [
    "new_string = ln.lower().split(' ')\n",
    "new_string_set = sorted(list(set(new_string)))"
   ]
  },
  {
   "cell_type": "code",
   "execution_count": 421,
   "id": "fe327590",
   "metadata": {
    "scrolled": false
   },
   "outputs": [
    {
     "data": {
      "text/plain": [
       "['a',\n",
       " 'abduction',\n",
       " 'about',\n",
       " 'aboutis',\n",
       " 'absence',\n",
       " '...',\n",
       " 'yours',\n",
       " 'yourself',\n",
       " 'yourselfwho',\n",
       " 'youthink',\n",
       " 'zola']"
      ]
     },
     "execution_count": 421,
     "metadata": {},
     "output_type": "execute_result"
    }
   ],
   "source": [
    "new_string_set[1:6] + ['...'] + new_string_set[-5:]"
   ]
  },
  {
   "cell_type": "code",
   "execution_count": 422,
   "id": "3a9d6b98",
   "metadata": {},
   "outputs": [
    {
     "data": {
      "text/plain": [
       "11070"
      ]
     },
     "execution_count": 422,
     "metadata": {},
     "output_type": "execute_result"
    },
    {
     "data": {
      "text/plain": [
       "1875"
      ]
     },
     "execution_count": 422,
     "metadata": {},
     "output_type": "execute_result"
    }
   ],
   "source": [
    "len(ln.split(' '))\n",
    "len(set(ln.split(' ')))"
   ]
  },
  {
   "cell_type": "markdown",
   "id": "2430f665",
   "metadata": {},
   "source": [
    "###### End"
   ]
  },
  {
   "cell_type": "code",
   "execution_count": null,
   "id": "fdb260c7",
   "metadata": {},
   "outputs": [],
   "source": [
    "type(pd)"
   ]
  },
  {
   "cell_type": "code",
   "execution_count": null,
   "id": "247f1ec6",
   "metadata": {},
   "outputs": [],
   "source": [
    "df = pd.read_csv(\"Apple Stock Price.csv\")"
   ]
  },
  {
   "cell_type": "code",
   "execution_count": null,
   "id": "d1484ca7",
   "metadata": {},
   "outputs": [],
   "source": [
    "df = pd.read_csv(\"Apple Stock Price.csv\")"
   ]
  },
  {
   "cell_type": "code",
   "execution_count": null,
   "id": "b11c194d",
   "metadata": {},
   "outputs": [],
   "source": [
    "df1 = df.sample(frac=0.001, random_state=0)"
   ]
  },
  {
   "cell_type": "code",
   "execution_count": null,
   "id": "a2b77050",
   "metadata": {},
   "outputs": [],
   "source": []
  },
  {
   "cell_type": "code",
   "execution_count": null,
   "id": "d3d46c74",
   "metadata": {},
   "outputs": [],
   "source": [
    "typing."
   ]
  },
  {
   "cell_type": "code",
   "execution_count": null,
   "id": "3c065254",
   "metadata": {},
   "outputs": [],
   "source": [
    "type(df1)"
   ]
  },
  {
   "cell_type": "code",
   "execution_count": null,
   "id": "6821fbc4",
   "metadata": {},
   "outputs": [],
   "source": [
    "a = 10"
   ]
  },
  {
   "cell_type": "code",
   "execution_count": null,
   "id": "3bb991b8",
   "metadata": {},
   "outputs": [],
   "source": [
    "from IPython.core.interactiveshell import InteractiveShell\n",
    "InteractiveShell.ast_node_interactivity='all'"
   ]
  },
  {
   "cell_type": "code",
   "execution_count": null,
   "id": "09b73656",
   "metadata": {},
   "outputs": [],
   "source": [
    "df.describe()"
   ]
  },
  {
   "cell_type": "code",
   "execution_count": null,
   "id": "1ca44789",
   "metadata": {},
   "outputs": [],
   "source": [
    "print(df)"
   ]
  },
  {
   "cell_type": "code",
   "execution_count": null,
   "id": "8db61a05",
   "metadata": {},
   "outputs": [],
   "source": [
    "df.columns"
   ]
  },
  {
   "cell_type": "code",
   "execution_count": null,
   "id": "6d94fade",
   "metadata": {},
   "outputs": [],
   "source": [
    "df.head()"
   ]
  },
  {
   "cell_type": "code",
   "execution_count": null,
   "id": "87ddbcad",
   "metadata": {},
   "outputs": [],
   "source": [
    "df.tail()"
   ]
  },
  {
   "cell_type": "code",
   "execution_count": null,
   "id": "6ee39e64",
   "metadata": {},
   "outputs": [],
   "source": [
    "df.describe"
   ]
  },
  {
   "cell_type": "code",
   "execution_count": null,
   "id": "8596f392",
   "metadata": {},
   "outputs": [],
   "source": [
    "df.describe()"
   ]
  },
  {
   "cell_type": "code",
   "execution_count": null,
   "id": "128152c7",
   "metadata": {},
   "outputs": [],
   "source": [
    "subtitle_generator = srt.parse('''\\\n",
    "1\n",
    "00:00:40,125 --> 00:00:44,170\n",
    "Do you, Ethan, take Julia\n",
    "to be your lawful wedded wife?\n",
    "\n",
    "2\n",
    "00:00:44,254 --> 00:00:45,255\n",
    "I do.\n",
    "\n",
    "3\n",
    "00:00:45,338 --> 00:00:50,218\n",
    "To have, to hold,\n",
    "to love, cherish, honor, and protect?\n",
    "\n",
    "4\n",
    "00:00:50,301 --> 00:00:51,761\n",
    "I do.\n",
    "\n",
    "5\n",
    "00:00:51,845 --> 00:00:55,974\n",
    "To shield from terrors known\n",
    "and unknown?\n",
    "\n",
    "6\n",
    "00:00:56,057 --> 00:00:59,144\n",
    "- To lie, to deceive...\n",
    "- What?''')\n"
   ]
  },
  {
   "cell_type": "code",
   "execution_count": null,
   "id": "65367a5e",
   "metadata": {},
   "outputs": [],
   "source": [
    "l = next(subtitle_generator)\n",
    "ln = l.content"
   ]
  },
  {
   "cell_type": "code",
   "execution_count": null,
   "id": "c75b0065",
   "metadata": {},
   "outputs": [],
   "source": [
    "ln"
   ]
  },
  {
   "cell_type": "code",
   "execution_count": null,
   "id": "17790622",
   "metadata": {},
   "outputs": [],
   "source": [
    "t = ''"
   ]
  },
  {
   "cell_type": "code",
   "execution_count": null,
   "id": "8d3464cd",
   "metadata": {},
   "outputs": [],
   "source": []
  },
  {
   "cell_type": "code",
   "execution_count": null,
   "id": "ceda4722",
   "metadata": {},
   "outputs": [],
   "source": [
    "string.punctuation"
   ]
  },
  {
   "cell_type": "code",
   "execution_count": null,
   "id": "fd7771b7",
   "metadata": {},
   "outputs": [],
   "source": [
    "string.printable"
   ]
  }
 ],
 "metadata": {
  "hide_input": false,
  "kernelspec": {
   "display_name": "Python 3",
   "language": "python",
   "name": "python3"
  },
  "language_info": {
   "codemirror_mode": {
    "name": "ipython",
    "version": 3
   },
   "file_extension": ".py",
   "mimetype": "text/x-python",
   "name": "python",
   "nbconvert_exporter": "python",
   "pygments_lexer": "ipython3",
   "version": "3.8.2"
  },
  "toc": {
   "base_numbering": 1,
   "nav_menu": {},
   "number_sections": true,
   "sideBar": true,
   "skip_h1_title": false,
   "title_cell": "Table of Contents",
   "title_sidebar": "Contents",
   "toc_cell": false,
   "toc_position": {},
   "toc_section_display": true,
   "toc_window_display": false
  },
  "varInspector": {
   "cols": {
    "lenName": 16,
    "lenType": 16,
    "lenVar": 40
   },
   "kernels_config": {
    "python": {
     "delete_cmd_postfix": "",
     "delete_cmd_prefix": "del ",
     "library": "var_list.py",
     "varRefreshCmd": "print(var_dic_list())"
    },
    "r": {
     "delete_cmd_postfix": ") ",
     "delete_cmd_prefix": "rm(",
     "library": "var_list.r",
     "varRefreshCmd": "cat(var_dic_list()) "
    }
   },
   "types_to_exclude": [
    "module",
    "function",
    "builtin_function_or_method",
    "instance",
    "_Feature"
   ],
   "window_display": false
  }
 },
 "nbformat": 4,
 "nbformat_minor": 5
}
