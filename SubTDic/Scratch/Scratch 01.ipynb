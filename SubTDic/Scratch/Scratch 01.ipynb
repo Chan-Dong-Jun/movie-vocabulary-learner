{
 "cells": [
  {
   "cell_type": "code",
   "execution_count": 2,
   "id": "cf91a50e",
   "metadata": {},
   "outputs": [],
   "source": [
    "import numpy as np\n",
    "import pandas as pd\n",
    "import srt\n",
    "import re\n",
    "import string"
   ]
  },
  {
   "cell_type": "markdown",
   "id": "1bcfe354",
   "metadata": {},
   "source": [
    "###### Start"
   ]
  },
  {
   "cell_type": "code",
   "execution_count": 74,
   "id": "f403c455",
   "metadata": {
    "scrolled": false
   },
   "outputs": [],
   "source": [
    "def read_st(st_file) -> str:\n",
    "    \n",
    "    with open(st_file, 'r') as f:\n",
    "        st = f.read()\n",
    "    \n",
    "    st = st.replace('\\n', ' \\n')\n",
    "    return st"
   ]
  },
  {
   "cell_type": "code",
   "execution_count": 75,
   "id": "51370844",
   "metadata": {},
   "outputs": [],
   "source": [
    "def parse_st(st : str) -> str:\n",
    "    \n",
    "    subtitle_generator = srt.parse(st)    \n",
    "    st = ''\n",
    "    for l in subtitle_generator:\n",
    "        st += l.content\n",
    "        \n",
    "    return st"
   ]
  },
  {
   "cell_type": "code",
   "execution_count": 76,
   "id": "9ec31c11",
   "metadata": {
    "scrolled": true
   },
   "outputs": [],
   "source": [
    "def clean_st(st : str) -> str:\n",
    "\n",
    "    st = st.replace('\\n', ' ')\n",
    "    st = st.replace('</i><i>', ' ')\n",
    "    st = st.replace('</i>', ' ')\n",
    "    st = st.replace('<i>', ' ')\n",
    "    st = st.replace(string.punctuation, ' ')   # working ?\n",
    "    st = st.replace('.', ' ')\n",
    "    st = st.replace('\\\\\\'s', ' ')\n",
    "    st = st.replace('s\\'', ' ')\n",
    "\n",
    "    replace = ' '\n",
    "    pattern = '[^a-zA-Z0-9 - ]'\n",
    "    st = re.sub(pattern, replace, st) \n",
    "\n",
    "    pattern = '[\\s+ \\\\\\' \\? 0-9 \"]'\n",
    "    st = re.sub(pattern, replace, st)     \n",
    "\n",
    "    return st"
   ]
  },
  {
   "cell_type": "code",
   "execution_count": 112,
   "id": "86893444",
   "metadata": {},
   "outputs": [],
   "source": [
    "def unique_st(st: str) -> list:\n",
    "    st_list = st.lower().split(' ')\n",
    "    st_list = sorted(list(set(st_list)))\n",
    "    if st_list[0].strip() == '':\n",
    "        st_list.pop(0)\n",
    "    return st_list"
   ]
  },
  {
   "cell_type": "code",
   "execution_count": 127,
   "id": "eb5d658d",
   "metadata": {},
   "outputs": [],
   "source": [
    "def head_tail_st(st_list : list, count : int = 5):\n",
    "    disp = st_list[:count] + ['...'] + st_list[-count:]\n",
    "    return disp\n",
    "\n",
    "def wordin_st(st: list, word : str):\n",
    "    return st.index(word) if word in st else -1"
   ]
  },
  {
   "cell_type": "code",
   "execution_count": 128,
   "id": "64bf1550",
   "metadata": {},
   "outputs": [],
   "source": [
    "st_file = \"../data/Spellbound 1945.srt\"\n",
    "st = read_st(st_file)\n",
    "st = parse_st(st)\n",
    "st = clean_st(st)\n",
    "st = unique_st(st)"
   ]
  },
  {
   "cell_type": "code",
   "execution_count": 132,
   "id": "506bd9fd",
   "metadata": {},
   "outputs": [
    {
     "data": {
      "text/plain": [
       "1868"
      ]
     },
     "execution_count": 132,
     "metadata": {},
     "output_type": "execute_result"
    }
   ],
   "source": [
    "wordin_st(st,'zannenbaum')"
   ]
  },
  {
   "cell_type": "code",
   "execution_count": 121,
   "id": "241251db",
   "metadata": {},
   "outputs": [
    {
     "data": {
      "text/plain": [
       "['a',\n",
       " 'abdication',\n",
       " 'able',\n",
       " 'about',\n",
       " 'accept',\n",
       " '...',\n",
       " 'your',\n",
       " 'yours',\n",
       " 'yourself',\n",
       " 'youth',\n",
       " 'zannenbaum']"
      ]
     },
     "execution_count": 121,
     "metadata": {},
     "output_type": "execute_result"
    }
   ],
   "source": [
    "head_tail_st(st)"
   ]
  }
 ],
 "metadata": {
  "hide_input": false,
  "kernelspec": {
   "display_name": "Python 3",
   "language": "python",
   "name": "python3"
  },
  "language_info": {
   "codemirror_mode": {
    "name": "ipython",
    "version": 3
   },
   "file_extension": ".py",
   "mimetype": "text/x-python",
   "name": "python",
   "nbconvert_exporter": "python",
   "pygments_lexer": "ipython3",
   "version": "3.8.2"
  },
  "toc": {
   "base_numbering": 1,
   "nav_menu": {},
   "number_sections": true,
   "sideBar": true,
   "skip_h1_title": false,
   "title_cell": "Table of Contents",
   "title_sidebar": "Contents",
   "toc_cell": false,
   "toc_position": {},
   "toc_section_display": true,
   "toc_window_display": false
  },
  "varInspector": {
   "cols": {
    "lenName": 16,
    "lenType": 16,
    "lenVar": 40
   },
   "kernels_config": {
    "python": {
     "delete_cmd_postfix": "",
     "delete_cmd_prefix": "del ",
     "library": "var_list.py",
     "varRefreshCmd": "print(var_dic_list())"
    },
    "r": {
     "delete_cmd_postfix": ") ",
     "delete_cmd_prefix": "rm(",
     "library": "var_list.r",
     "varRefreshCmd": "cat(var_dic_list()) "
    }
   },
   "types_to_exclude": [
    "module",
    "function",
    "builtin_function_or_method",
    "instance",
    "_Feature"
   ],
   "window_display": false
  }
 },
 "nbformat": 4,
 "nbformat_minor": 5
}
